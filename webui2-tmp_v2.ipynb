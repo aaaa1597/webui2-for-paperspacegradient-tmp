{
 "cells": [
  {
   "cell_type": "markdown",
   "metadata": {
    "id": "y5PYpiOS7InM"
   },
   "source": [
    "このスクリプトについてのサポート、Stable Diffusion Web UI に関するサポート、および Paperspace に関するサポートについては https://bit.ly/paperspace-openchat に参加してみてください。LINE のオープンチャットです(LINEのメインアカウントの存在および本名がバレることはありません)。よろしくお願いします。"
   ]
  },
  {
   "cell_type": "code",
   "execution_count": null,
   "metadata": {
    "execution": {
     "iopub.execute_input": "2024-04-12T10:23:21.442881Z",
     "iopub.status.busy": "2024-04-12T10:23:21.442228Z",
     "iopub.status.idle": "2024-04-12T10:23:25.697860Z",
     "shell.execute_reply": "2024-04-12T10:23:25.696491Z",
     "shell.execute_reply.started": "2024-04-12T10:23:21.442876Z"
    }
   },
   "outputs": [],
   "source": [
    "#(0) 初回のみ ... stable-diffusion-webui-forgeのダウンロード\n",
    "# /tmp配下に環境を作る。 \n",
    "%cd /tmp\n",
    "!rm -rf stable-diffusion-webui-forge\n",
    "!git clone https://github.com/lllyasviel/stable-diffusion-webui-forge.git\n"
   ]
  },
  {
   "cell_type": "code",
   "execution_count": null,
   "metadata": {
    "execution": {
     "iopub.execute_input": "2024-04-12T10:26:23.134658Z",
     "iopub.status.busy": "2024-04-12T10:26:23.134125Z",
     "iopub.status.idle": "2024-04-12T10:59:39.866971Z",
     "shell.execute_reply": "2024-04-12T10:59:39.865829Z",
     "shell.execute_reply.started": "2024-04-12T10:26:23.134603Z"
    }
   },
   "outputs": [],
   "source": [
    "##(1) 起動毎にいつも\n",
    "## モデルのダウンロード\n",
    "%cd /tmp/stable-diffusion-webui-forge/models/Stable-diffusion\n",
    "#実写系\n",
    "!wget -nc \"https://cdn-lfs.huggingface.co/repos/58/b9/58b98b93129a1de36c7f4deb2603325ef8d3fded388a4fb70fe8c3e5dc1388d0/e892703c61bf5b95b3962825b67d03a18298ac6c3d0757c77858e5717fdae6b5?response-content-disposition=attachment%3B+filename*%3DUTF-8%27%27abyssorangemix2NSFW_abyssorangemix2Nsfw.safetensors%3B+filename%3D%22abyssorangemix2NSFW_abyssorangemix2Nsfw.safetensors%22%3B&Expires=1713180427&Policy=eyJTdGF0ZW1lbnQiOlt7IkNvbmRpdGlvbiI6eyJEYXRlTGVzc1RoYW4iOnsiQVdTOkVwb2NoVGltZSI6MTcxMzE4MDQyN319LCJSZXNvdXJjZSI6Imh0dHBzOi8vY2RuLWxmcy5odWdnaW5nZmFjZS5jby9yZXBvcy81OC9iOS81OGI5OGI5MzEyOWExZGUzNmM3ZjRkZWIyNjAzMzI1ZWY4ZDNmZGVkMzg4YTRmYjcwZmU4YzNlNWRjMTM4OGQwL2U4OTI3MDNjNjFiZjViOTViMzk2MjgyNWI2N2QwM2ExODI5OGFjNmMzZDA3NTdjNzc4NThlNTcxN2ZkYWU2YjU%7EcmVzcG9uc2UtY29udGVudC1kaXNwb3NpdGlvbj0qIn1dfQ__&Signature=sNxsTfzpjrE%7EJ62ZsOfZDYX7auySuG-tD-TyJ--pGCBWRHy7Y%7EoGDxz%7EwFlCCR4x7Tqwgbgol1IrePWxe-BNi3uWXLg59plZWLL1Mly4up24eJjHbXpRBc50QZuzXyX-tR6B0uUrEGxwDSopH9Nx2%7Evi1aaK720gGJNlynUcwWH%7EryiIU7kDF6jyoCXXC7i7M9U3VE3XFbSfrAV-Ur8DYBHduyVZdd9Y5JzxqysnkrLWg2lU%7E2lO9oixa17LkurP%7EfYCSOZjZhcz4kJEpDzGq-A5dLrww8d32476GqnzLTF9a3uFZEKOAB37-q-le6n7k9K-apfR7snM34CdDJ4bUg__&Key-Pair-Id=KVTP0A1DKRTAX\" -O abyssorangemix2NSFW_abyssorangemix2Nsfw.safetensors\n",
    "!wget -nc https://civitai.com/api/download/models/11745  -O chilloutmix_NiPrunedFp32Fix.safetensors\n",
    "!wget -nc https://civitai.com/api/download/models/220737 -O galenaREDUX_v30.safetensors\n",
    "!wget -nc \"https://civitai.com/api/download/models/106922?type=Model&format=SafeTensor&size=pruned&fp=fp16\" -O hassakuHentaiModel_v13.safetensors\n",
    "!wget -nc https://civitai.com/api/download/models/334282 -O kawaiiRealisticAsian_v07.safetensors\n",
    "!wget -nc https://civitai.com/api/download/models/87825  -O kizukiAnimeHentai_animeHentaiV3.safetensors\n",
    "!wget -nc \"https://civitai.com/api/download/models/287641?type=Model&format=SafeTensor&size=pruned&fp=fp16\" -O meichidarkMix_meichidarkV5.safetensors\n",
    "!wget -nc \"https://civitai.com/api/download/models/100675?type=Model&format=SafeTensor&size=pruned&fp=fp16\" -O meinahentai_v4.safetensors\n",
    "!wget -nc https://civitai.com/api/download/models/179632 -O perfectWorld_v6Baked.safetensors\n",
    "%ls -l /tmp/stable-diffusion-webui-forge/models/Stable-diffusion\n",
    "\n",
    "## embeddingsのダウンロード\n",
    "%cd /tmp/stable-diffusion-webui-forge/embeddings\n",
    "!wget -nc https://civitai.com/api/download/models/125849 -O bad-hands-5.pt\n",
    "!wget -nc \"https://civitai.com/api/download/models/9208?type=Model&format=SafeTensor&size=full&fp=fp16\" -O easynegative.safetensors\n",
    "!wget -nc https://civitai.com/api/download/models/60938 -O negative_hand-neg.pt\n",
    "!wget -nc \"https://civitai.com/api/download/models/5637?type=Model&format=PickleTensor&size=full&fp=fp16\" -O ng_deepnegative_v1_75t.pt\n",
    "%ls -l /tmp/stable-diffusion-webui-forge/embeddings\n",
    "\n",
    "## ControlNetのモデル「canny/depth/lineart/lineart_anime/normalbae/openpose/tile」\n",
    "%mkdir /tmp/stable-diffusion-webui-forge/models/ControlNet\n",
    "%cd /tmp/stable-diffusion-webui-forge/models/ControlNet\n",
    "!wget https://huggingface.co/ckpt/ControlNet-v1-1/resolve/main/control_v11p_sd15_canny_fp16.safetensors -O /tmp/stable-diffusion-webui-forge/models/ControlNet/control_v11p_sd15_canny_fp16.safetensors\n",
    "!wget https://huggingface.co/ckpt/ControlNet-v1-1/resolve/main/control_v11f1p_sd15_depth_fp16.safetensors -O /tmp/stable-diffusion-webui-forge/models/ControlNet/control_v11f1p_sd15_depth_fp16.safetensors\n",
    "!wget https://huggingface.co/ckpt/ControlNet-v1-1/resolve/main/control_v11p_sd15_lineart_fp16.safetensors -O /tmp/stable-diffusion-webui-forge/models/ControlNet/control_v11p_sd15_lineart_fp16.safetensors\n",
    "!wget https://huggingface.co/ckpt/ControlNet-v1-1/resolve/main/control_v11p_sd15s2_lineart_anime_fp16.safetensors -O /tmp/stable-diffusion-webui-forge/models/ControlNet/control_v11p_sd15s2_lineart_anime_fp16.safetensors\n",
    "!wget https://huggingface.co/ckpt/ControlNet-v1-1/resolve/main/control_v11p_sd15_normalbae_fp16.safetensors -O /tmp/stable-diffusion-webui-forge/models/ControlNet/control_v11f1p_sd15_normalbae_fp16.safetensors\n",
    "!wget https://huggingface.co/ckpt/ControlNet-v1-1/resolve/main/control_v11p_sd15_openpose_fp16.safetensors -O /tmp/stable-diffusion-webui-forge/models/ControlNet/control_v11p_sd15_openpose_fp16.safetensors\n",
    "!wget https://huggingface.co/ckpt/ControlNet-v1-1/resolve/main/control_v11f1e_sd15_tile_fp16.safetensors -O /tmp/stable-diffusion-webui-forge/models/ControlNet/control_v11f1e_sd15_tile_fp16.safetensors\n",
    "%ls -l /tmp/stable-diffusion-webui-forge/models/ControlNet\n"
   ]
  },
  {
   "cell_type": "code",
   "execution_count": null,
   "metadata": {
    "execution": {
     "iopub.execute_input": "2024-04-05T10:24:12.086617Z",
     "iopub.status.busy": "2024-04-05T10:24:12.086242Z"
    },
    "id": "qfGtMLwLpCr3"
   },
   "outputs": [],
   "source": [
    "#(2) WebUI起動\n",
    "!apt update\n",
    "!apt -y install python3.10\n",
    "!apt -y install libpython3.10-dev\n",
    "!apt -y install build-essential\n",
    "!apt -y install ffmpeg\n",
    "!curl -sS https://bootstrap.pypa.io/get-pip.py | python3.10\n",
    "!python3.10 -m pip install torch==2.0.1+cu118 torchvision==0.15.2+cu118 torchaudio==2.0.2+cu118 torchtext==0.15.2 torchdata==0.6.1 --extra-index-url https://download.pytorch.org/whl/cu118 -U\n",
    "!python3.10 -m pip install xformers==0.0.20 triton==2.0.0 -U\n",
    "!python3.10 -m pip install httpx==0.24.1\n",
    "#!python3.10 -m pip install insightface -U\n",
    "!python3.10 -m pip install matplotlib -U\n",
    "!python3.10 -m pip install ipython -U\n",
    "from IPython import get_ipython\n",
    "get_ipython().run_line_magic('matplotlib', 'inline')\n",
    "%cd /tmp/stable-diffusion-webui-forge\n",
    "!python3.10 launch.py --xformers --enable-insecure-extension-access --share --gradio-queue\n"
   ]
  },
  {
   "cell_type": "code",
   "execution_count": null,
   "metadata": {
    "execution": {
     "iopub.execute_input": "2024-02-02T04:34:39.019792Z",
     "iopub.status.busy": "2024-02-02T04:34:39.019001Z",
     "iopub.status.idle": "2024-02-02T04:34:40.264948Z",
     "shell.execute_reply": "2024-02-02T04:34:40.264260Z",
     "shell.execute_reply.started": "2024-02-02T04:34:39.019751Z"
    },
    "id": "a3c-0LBjpYXe"
   },
   "outputs": [],
   "source": []
  }
 ],
 "metadata": {
  "colab": {
   "private_outputs": true,
   "provenance": []
  },
  "gpuClass": "standard",
  "kernelspec": {
   "display_name": "Python 3 (ipykernel)",
   "language": "python",
   "name": "python3"
  },
  "language_info": {
   "codemirror_mode": {
    "name": "ipython",
    "version": 3
   },
   "file_extension": ".py",
   "mimetype": "text/x-python",
   "name": "python",
   "nbconvert_exporter": "python",
   "pygments_lexer": "ipython3",
   "version": "3.9.16"
  }
 },
 "nbformat": 4,
 "nbformat_minor": 4
}
